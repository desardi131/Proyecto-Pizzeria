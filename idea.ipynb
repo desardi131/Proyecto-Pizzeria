{
 "cells": [
  {
   "cell_type": "markdown",
   "metadata": {},
   "source": [
    "El proyecto completo constara de las siguientes partes:\n",
    "- Lectura de tickets, pasando a texto mediante imagen.\n",
    "- Posibilidad de transmitir informacion a los tickets, opcion de resumir pedido y de obtener numero+direccion.\n",
    "- Guardar la informacion en base de datos de las direcciones, pedidos anteriores, probabilidad de pago con tarjeta u billete especifico.\n",
    "- Analisis tiempos de espera en preparación, reparto y entrega.\n",
    "- Ruta GPS mas corta segun mapa, optimizada por distancia.\n",
    "- Algoritmo de prediccion para cantidad de pedidos que tendremos ese dia.\n",
    "\n",
    "## Lectura de tickets, pasando a texto mediante imagen\n",
    "\n",
    "Esta sera la primera parte, debido a la falta de acceso al programa de gestion actual y por tanto falta de datos. Realizar esta parte del proyecto para funcionar primero en ordenador mediante imagen, despues mediante web cam en momento real y posteriormente funcional en telefono movil.\n",
    "\n",
    "De esta manera podremos comenzar a guardar informacion para el analisis de tiempos, asi como resumir la informacion del ticket en una lista de objetos que tendremos que llevar. Ej:[Pizza, Bebida, datafono, plancha, tartara, cambio, ...]. Cada apartado tendra su complejidad asi como sus distintas necesidades, por tanto nos centraremos en realizar el orden correcto de los apartados para facilitar nuestro trabajo, teniendo en cuenta la independencia de cada uno de los apartados y no intentaremos unificarlo, de igual forma trataremos de realizar un codigo especialmente pensado para programarcion orientada a objetos, la cual nos podra ayudar a la reutilizacion de codigo. \n",
    "\n",
    "El lenguaje utilizado principalmente sera python, no teniendo aun en cuenta la utilizacion de un lenguaje para dispositivos moviles. una vez comenzado el proyecto revisaremos los diferentes tipos de tecnologias necesarias, como será SQL en lenguajes o las distintas librerias.\n",
    "\n"
   ]
  }
 ],
 "metadata": {
  "language_info": {
   "name": "python"
  }
 },
 "nbformat": 4,
 "nbformat_minor": 2
}
